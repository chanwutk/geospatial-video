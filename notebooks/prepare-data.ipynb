{
 "cells": [
  {
   "cell_type": "code",
   "execution_count": null,
   "id": "283a8af7-1a8f-45cf-bcf9-16591d4b18fc",
   "metadata": {},
   "outputs": [],
   "source": [
    "%cd .."
   ]
  },
  {
   "cell_type": "code",
   "execution_count": null,
   "id": "c4baab22-8506-459c-9682-47bdfebebcfe",
   "metadata": {},
   "outputs": [],
   "source": [
    "import pickle\n",
    "import pandas as pd"
   ]
  },
  {
   "cell_type": "code",
   "execution_count": null,
   "id": "c6a40c46-5a61-495b-b111-f32e327b762b",
   "metadata": {},
   "outputs": [],
   "source": [
    "with open('data/df_frames.pickle', \"rb\") as f:\n",
    "    df_frames = pickle.loads(f.read())\n",
    "with open('data/df_annotations.pickle', \"rb\") as f:\n",
    "    df_annotations = pickle.loads(f.read())"
   ]
  },
  {
   "cell_type": "code",
   "execution_count": null,
   "id": "007aff7b-dd33-4541-9824-271032e2eeca",
   "metadata": {},
   "outputs": [],
   "source": [
    "\"\"\"\n",
    "is_key_frame: you can filter to include just the row with is_key_frame=True\n",
    "timestamp: is a unix timestamp in microsecond\n",
    "filename: You can only include the one with CAM_FRONT\n",
    "sample_token: join this with df_annotations\n",
    "scene_name: identify which video this frame is coming from\n",
    "frame_order: you should double check if the frame order correctly by timestamp\n",
    "camera_translation/camera_rotation/camera_intrinsic/ego_rotation/ego_translation/ego_heading/camera_heading can be in frame's property\n",
    "\"\"\"\n",
    "df_frames"
   ]
  },
  {
   "cell_type": "code",
   "execution_count": null,
   "id": "c2f06f13-afcf-485e-9d69-fee6bd500f68",
   "metadata": {},
   "outputs": [],
   "source": [
    "\"\"\"\n",
    "sample_token: join with df_frames\n",
    "instance_token: identify our Instance\n",
    "category: should be on Instance's property\n",
    "translation/size/rotation/heading/camera_heading can be in annotation's property\n",
    "\"\"\"\n",
    "df_annotations"
   ]
  },
  {
   "cell_type": "code",
   "execution_count": null,
   "id": "d0e09dd8-3dc9-4a27-857d-b3fe703bfa77",
   "metadata": {},
   "outputs": [],
   "source": []
  }
 ],
 "metadata": {
  "kernelspec": {
   "display_name": "Python 3 (ipykernel)",
   "language": "python",
   "name": "python3"
  },
  "language_info": {
   "codemirror_mode": {
    "name": "ipython",
    "version": 3
   },
   "file_extension": ".py",
   "mimetype": "text/x-python",
   "name": "python",
   "nbconvert_exporter": "python",
   "pygments_lexer": "ipython3",
   "version": "3.8.12"
  }
 },
 "nbformat": 4,
 "nbformat_minor": 5
}
